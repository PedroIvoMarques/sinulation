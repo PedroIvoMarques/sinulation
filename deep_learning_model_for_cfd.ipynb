{
  "nbformat": 4,
  "nbformat_minor": 0,
  "metadata": {
    "colab": {
      "name": "deep-learning-model-for-cfd",
      "provenance": [],
      "collapsed_sections": []
    },
    "kernelspec": {
      "name": "python3",
      "display_name": "Python 3"
    },
    "accelerator": "GPU"
  },
  "cells": [
    {
      "cell_type": "code",
      "metadata": {
        "id": "zDKjCNPvRjXJ",
        "colab_type": "code",
        "colab": {}
      },
      "source": [
        "import tensorflow as tf\n",
        "import numpy as np\n",
        "import tensorflow.keras.backend as K\n",
        "from tensorflow.keras.models import Model\n",
        "from tensorflow.keras.layers import Input, Conv2D, Conv2DTranspose, Multiply\n",
        "from tensorflow.keras.layers import Add, ReLU, Activation\n",
        "\n",
        "# visualization libraries\n",
        "import utils  # file with helper functions\n",
        "import matplotlib.pyplot as plt"
      ],
      "execution_count": 0,
      "outputs": []
    },
    {
      "cell_type": "markdown",
      "metadata": {
        "id": "rZ3JGspIaHdQ",
        "colab_type": "text"
      },
      "source": [
        "**LOADING DATASET**"
      ]
    },
    {
      "cell_type": "code",
      "metadata": {
        "id": "-6kjCezSaKqV",
        "colab_type": "code",
        "colab": {}
      },
      "source": [
        "x_train = np.load('xtrain.npy')\n",
        "x_train = (x_train - x_train.min())/(x_train.max()-x_train.min())\n",
        "\n",
        "obj_train = np.load('objtrain.npy')"
      ],
      "execution_count": 0,
      "outputs": []
    },
    {
      "cell_type": "code",
      "metadata": {
        "id": "2-2nTi0-aKMa",
        "colab_type": "code",
        "colab": {}
      },
      "source": [
        "x_test = np.load('xtest.npy')\n",
        "x_test = (x_test - x_test.min())/(x_test.max()-x_test.min())\n",
        "\n",
        "obj_test = np.load('objtest.npy')"
      ],
      "execution_count": 0,
      "outputs": []
    },
    {
      "cell_type": "markdown",
      "metadata": {
        "id": "mjR5jet5rwwT",
        "colab_type": "text"
      },
      "source": [
        "**BUILDING EACH PART OF THE MODEL**"
      ]
    },
    {
      "cell_type": "code",
      "metadata": {
        "id": "i9NVkVdFFUsx",
        "colab_type": "code",
        "colab": {}
      },
      "source": [
        "def Swish(x):\n",
        "    \"\"\" Swish activation funcion \"\"\"\n",
        "    return (x * K.sigmoid(x))"
      ],
      "execution_count": 0,
      "outputs": []
    },
    {
      "source": [
        "Default residual block. The activation function can be changed by any other.\n",
        "\n",
        "<center><img src=\"figures/residual_block.png\" width="400" /></center>"
      ],
      "cell_type": "markdown",
      "metadata": {}
    },
    {
      "cell_type": "code",
      "metadata": {
        "id": "ZYHT6ZRKRy_U",
        "colab_type": "code",
        "colab": {}
      },
      "source": [
        "def residual_block(X, num_filters, stride_1, stride_2=1, kernel_size_1=3, kernel_size_2=3, padding='VALID'):\n",
        "\n",
        "    X_shortcut = X\n",
        "\n",
        "    X = Conv2D(filters=num_filters, kernel_size=kernel_size_1,\n",
        "               strides=stride_1, padding=padding)(X)\n",
        "    X = Swish(X)\n",
        "\n",
        "    X = Conv2D(filters=num_filters, kernel_size=kernel_size_2,\n",
        "               strides=stride_2, padding='SAME')(X)\n",
        "    X = Swish(X)\n",
        "\n",
        "    if padding == 'VALID':\n",
        "        X_shortcut = Conv2D(\n",
        "            filters=num_filters, kernel_size=kernel_size_1, strides=stride_1)(X_shortcut)\n",
        "        X_shortcut = Swish(X_shortcut)\n",
        "\n",
        "    else:\n",
        "        X_shortcut = Conv2D(filters=num_filters,\n",
        "                            kernel_size=1, strides=1,)(X_shortcut)\n",
        "\n",
        "    X = Add()([X, X_shortcut])\n",
        "    X = Swish(X)\n",
        "\n",
        "    return X"
      ],
      "execution_count": 0,
      "outputs": []
    },
    {
      "source": [
        "The encoder block is divided in two parts, one for the simulation tensor encoding, and the other one for the object tensor encoding. The encoder reduces the simulation size to make the computation of the full simulation more efficient.\n",
        "\n",
        "<center><img src=\"figures/encoder.png\" width="500" /></center>"
      ],
      "cell_type": "markdown",
      "metadata": {}
    },
    {
      "cell_type": "code",
      "metadata": {
        "id": "EEEBk_v-R0YL",
        "colab_type": "code",
        "colab": {}
      },
      "source": [
        "def encoder_state(input_shape=(None, None, 9)):\n",
        "\n",
        "    X_input = Input(input_shape)\n",
        "\n",
        "    X = X_input\n",
        "\n",
        "    X = residual_block(X, 16, stride_1=1, kernel_size_1=4, padding='SAME')\n",
        "\n",
        "    X = residual_block(X, 32, stride_1=2, kernel_size_1=4)\n",
        "\n",
        "    X = residual_block(X, 32, stride_1=1, padding='SAME')\n",
        "\n",
        "    X = residual_block(X, 32, stride_1=1, padding='SAME')\n",
        "\n",
        "    X = residual_block(X, 64, stride_1=2, kernel_size_1=4)\n",
        "\n",
        "    X = residual_block(X, 64, stride_1=1, padding='SAME')\n",
        "\n",
        "    X = residual_block(X, 64, stride_1=1, padding='SAME')\n",
        "\n",
        "    obj_input = Input((None, None, 1))\n",
        "\n",
        "    Y = obj_input\n",
        "\n",
        "    Y = residual_block(Y, 32, stride_1=2, kernel_size_1=4)\n",
        "\n",
        "    Y = residual_block(Y, 32, stride_1=1, padding='SAME')\n",
        "\n",
        "    Y = residual_block(Y, 64, stride_1=2, kernel_size_1=4)\n",
        "\n",
        "    Y = residual_block(Y, 64, stride_1=1, padding='SAME')\n",
        "\n",
        "    b_add = residual_block(Y, 64, stride_1=1, padding='SAME')\n",
        "\n",
        "    b_mul = residual_block(Y, 64, stride_1=1, padding='SAME')\n",
        "\n",
        "    X = Multiply()([X, b_mul])\n",
        "    X = Add()([X, b_add])\n",
        "\n",
        "    model = Model(inputs=[X_input, obj_input], outputs=[X, b_add, b_mul])\n",
        "\n",
        "    return model\n"
      ],
      "execution_count": 0,
      "outputs": []
    },
    {
      "source": [
        "The decoder block upsamples the compressed simulation back to its original dimension. \n",
        "\n",
        "<center><img src=\"figures/decoder.png\" width="200" /></center>"
      ],
      "cell_type": "markdown",
      "metadata": {}
    },
    {
      "cell_type": "code",
      "metadata": {
        "id": "wYT5XKqJR5aj",
        "colab_type": "code",
        "colab": {}
      },
      "source": [
        "def decoder_state(input_shape):\n",
        "\n",
        "    X_input = Input(input_shape)\n",
        "\n",
        "    X = X_input\n",
        "\n",
        "    X = Conv2DTranspose(64, kernel_size=4, strides=2)(X)\n",
        "\n",
        "    X = residual_block(X, 32, stride_1=1, padding='SAME')\n",
        "\n",
        "    X = residual_block(X, 32, stride_1=1, padding='SAME')\n",
        "\n",
        "    X = Conv2DTranspose(32, kernel_size=4, strides=2)(X)\n",
        "\n",
        "    X = residual_block(X, 16, stride_1=1, padding='SAME')\n",
        "\n",
        "    X = residual_block(X, 16, stride_1=1, padding='SAME')\n",
        "\n",
        "    X = Conv2DTranspose(9, kernel_size=3, strides=1)(X)\n",
        "\n",
        "    model = Model(inputs=X_input, outputs=X)\n",
        "\n",
        "    return model"
      ],
      "execution_count": 0,
      "outputs": []
    },
    {
      "source": [
        "The temporal evolution, or compression mapping block, is responsible for advancing the simulation in time, returning its next frame in the latent compressed dimensions.\n",
        "\n",
        "<center><img src=\"figures/mapping.png\" width="300" /></center>"
      ],
      "cell_type": "markdown",
      "metadata": {}
    },
    {
      "cell_type": "code",
      "metadata": {
        "id": "DHKtsFXrSAAA",
        "colab_type": "code",
        "colab": {}
      },
      "source": [
        "def compression_mapping(input_shape_X, input_shape_b):\n",
        "\n",
        "    X_input = Input(input_shape_X)\n",
        "\n",
        "    b_add = Input(input_shape_b)\n",
        "\n",
        "    b_mul = Input(input_shape_b)\n",
        "\n",
        "    X = X_input\n",
        "\n",
        "    X = residual_block(X, 64, stride_1=1, padding='SAME')\n",
        "\n",
        "    X = residual_block(X, 64, stride_1=1, padding='SAME')\n",
        "\n",
        "    X = residual_block(X, 64, stride_1=1, padding='SAME')\n",
        "\n",
        "    X = residual_block(X, 64, stride_1=1, padding='SAME')\n",
        "\n",
        "    X = Multiply()([X, b_mul])\n",
        "    X = Add()([X, b_add])\n",
        "\n",
        "    model = Model(inputs=[X_input, b_add, b_mul], outputs=[X, b_add, b_mul])\n",
        "\n",
        "    return model"
      ],
      "execution_count": 0,
      "outputs": []
    },
    {
      "source": [
        "The final model is created using the previously defined parts. To help guaranteeing the long term temporal convergence of the neural network, during training the 5 next simulation frames are predicted, reusing the decoder and temporal evolution parts.  \n",
        "\n",
        "<center><img src=\"figures/overview.png\" width="800" /></center>"
      ],
      "cell_type": "markdown",
      "metadata": {}
    },
    {
      "cell_type": "code",
      "metadata": {
        "id": "hqUgtDy1RwHu",
        "colab_type": "code",
        "colab": {}
      },
      "source": [
        "def create_final_model(model_encoder_state, model_decoder_state, model_compression_mapping):\n",
        "    X_input = Input((None, None, 9))\n",
        "    obj_input = Input((None, None, 1))\n",
        "    outputs = []\n",
        "\n",
        "    compressed, b_add, b_mul = model_encoder_state([X_input, obj_input])\n",
        "\n",
        "    for _ in range(5):\n",
        "        outputs.append(model_decoder_state([compressed]))\n",
        "        compressed, _, _ = model_compression_mapping(\n",
        "            [compressed, b_add, b_mul])\n",
        "\n",
        "    model = Model(inputs=[X_input, obj_input], outputs=outputs)\n",
        "\n",
        "    return model"
      ],
      "execution_count": 0,
      "outputs": []
    },
    {
      "cell_type": "code",
      "metadata": {
        "id": "kCzfEFm-SqR7",
        "colab_type": "code",
        "colab": {}
      },
      "source": [
        "model_encoder_state = encoder_state()\n",
        "model_decoder_state = decoder_state(model_encoder_state.output_shape[0][1:])\n",
        "model_compression_mapping = compression_mapping(\n",
        "    model_encoder_state.output_shape[0][1:], model_encoder_state.output_shape[1][1:])\n",
        "model_parts = [model_encoder_state,\n",
        "               model_decoder_state, model_compression_mapping]"
      ],
      "execution_count": 0,
      "outputs": []
    },
    {
      "cell_type": "code",
      "metadata": {
        "id": "MWGdVXyiSr5W",
        "colab_type": "code",
        "colab": {}
      },
      "source": [
        "model = create_final_model(\n",
        "    model_encoder_state, model_decoder_state, model_compression_mapping)"
      ],
      "execution_count": 0,
      "outputs": []
    },
    {
      "cell_type": "markdown",
      "metadata": {
        "id": "EXnYx0MbHqOo",
        "colab_type": "text"
      },
      "source": [
        "**TRAINING**"
      ]
    },
    {
      "source": [
        "Although the loss being minimized is the Mean Squared Error (MSE) loss, it isn't very informative about the simulation convergence on the long term. To check the convergence during training, a callback that computes a full 100-frames simulation, and display the last frame in the end of every epoch is used."
      ],
      "cell_type": "markdown",
      "metadata": {}
    },
    {
      "cell_type": "code",
      "metadata": {
        "id": "jfIQ15mmKfPn",
        "colab_type": "code",
        "colab": {}
      },
      "source": [
        "class visualize_result(tf.keras.callbacks.Callback):\n",
        "    def on_epoch_end(self, batch, logs={}):\n",
        "        predic = utils.generate_simulation(\n",
        "            model_parts, x_test[0:1], obj_test[0:1], frame_num=100)\n",
        "        vel = utils.get_velocity(predic[-1])\n",
        "        u_plot = np.abs(vel[0, :, :, 0], vel[0, :, :, 1])\n",
        "        plt.imshow(u_plot, cmap='viridis')\n",
        "        plt.show()"
      ],
      "execution_count": 0,
      "outputs": []
    },
    {
      "cell_type": "code",
      "metadata": {
        "id": "zOzkWatE5o3B",
        "colab_type": "code",
        "colab": {}
      },
      "source": [
        "class save_models(tf.keras.callbacks.Callback):\n",
        "    def on_epoch_end(self, batch, logs={}):\n",
        "        model_list.append(model.get_weights())"
      ],
      "execution_count": 0,
      "outputs": []
    },
    {
      "cell_type": "code",
      "metadata": {
        "id": "EYOAX3VA5q1f",
        "colab_type": "code",
        "colab": {}
      },
      "source": [
        "model_list = []\n",
        "sav = save_models()\n",
        "vis = visualize_result()"
      ],
      "execution_count": 0,
      "outputs": []
    },
    {
      "cell_type": "code",
      "metadata": {
        "id": "S5d0w12mKq06",
        "colab_type": "code",
        "colab": {}
      },
      "source": [
        "optm = tf.optimizers.Adam(learning_rate=5e-4)\n",
        "model.compile(optimizer=optm, loss='mse')"
      ],
      "execution_count": 0,
      "outputs": []
    },
    {
      "cell_type": "code",
      "metadata": {
        "id": "-r_XnMvbHPpt",
        "colab_type": "code",
        "colab": {}
      },
      "source": [
        "model.fit(x=[x_train[:-5], obj_train[:-5]], y=[x_train[i:i-5]\n",
        "                                               for i in range(5)], batch_size=4, epochs=5, callbacks=[vis, sav])"
      ],
      "execution_count": 0,
      "outputs": []
    },
    {
      "cell_type": "markdown",
      "metadata": {
        "id": "D5Z0wvVlIb4p",
        "colab_type": "text"
      },
      "source": [
        "**VISUALIZATION**"
      ]
    },
    {
      "cell_type": "code",
      "metadata": {
        "id": "a1CJNgZ6OUfT",
        "colab_type": "code",
        "colab": {}
      },
      "source": [
        "#model.set_weights(model_list[i])"
      ],
      "execution_count": 0,
      "outputs": []
    },
    {
      "cell_type": "code",
      "metadata": {
        "id": "KE5hC84hPFAB",
        "colab_type": "code",
        "colab": {}
      },
      "source": [
        "y_hat = utils.generate_simulation(model_parts, x_test[0:1], obj_test[0:1])"
      ],
      "execution_count": 0,
      "outputs": []
    },
    {
      "cell_type": "code",
      "metadata": {
        "id": "MgGwVX8h-gI6",
        "colab_type": "code",
        "colab": {}
      },
      "source": [
        "utils.make_animation(y_hat, [], 'vel')"
      ],
      "execution_count": 0,
      "outputs": []
    },
    {
      "cell_type": "code",
      "metadata": {
        "id": "THXPsSTp-WlD",
        "colab_type": "code",
        "colab": {}
      },
      "source": [
        ""
      ],
      "execution_count": 0,
      "outputs": []
    }
  ]
}
